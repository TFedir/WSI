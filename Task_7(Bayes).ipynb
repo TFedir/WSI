{
  "cells": [
    {
      "cell_type": "markdown",
      "metadata": {
        "id": "cpar5LziY_-0"
      },
      "source": [
        "#Zadanie 7 (7 pkt)\n",
        "Celem zadania jest zaimplementowanie dwóch wersji naiwnego klasyfikatora Bayesa. \n",
        "* W pierwszej wersji należy dokonać dyskretyzacji danych - przedział wartości każdego atrybutu dzielimy na cztery równe przedziały i każdej ciągłej wartości atrybutu przypisujemy wartość dyskretną wynikająca z przynależności do danego przedziału.\n",
        "* W drugiej wersji wartości likelihood wyliczamy z rozkładów normalnych o średnich i odchyleniach standardowych wynikających z wartości atrybutów.\n",
        "Trening i test należy przeprowadzić dla zbioru Iris, tak jak w przypadku zadania z drzewem klasyfikacyjnym. Proszę przeprowadzić eksperymenty najpierw dla DOKŁADNIE takiego podziału zbioru testowego i treningowego jak umieszczony poniżej. W dalszej części należy przeprowadzić analizę działania klasyfikatorów dla różnych wartości parametrów. Proszę korzystać z przygotowanego szkieletu programu, oczywiście można go modyfikować według potrzeb. Wszelkie elementy szkieletu zostaną wyjaśnione na zajęciach.\n",
        "\n",
        "* Dyskretyzacja danych - **0.5 pkt** \n",
        "* Implementacja funkcji rozkładu normalnego o zadanej średniej i odchyleniu standardowym. - **0.5 pkt**\n",
        "* Implementacja naiwnego klasyfikatora Bayesa dla danych dyskretnych. - **2.0 pkt**\n",
        "* Implementacja naiwnego klasyfikatora Bayesa dla danych ciągłych. - **2.5 pkt**\n",
        "* Przeprowadzenie eksperymentów, wnioski i sposób ich prezentacji. - **1.5 pkt**"
      ]
    },
    {
      "cell_type": "code",
      "execution_count": 2,
      "metadata": {
        "id": "XNc-O3npA-J9"
      },
      "outputs": [],
      "source": [
        "from sklearn.datasets import load_iris\n",
        "from sklearn.model_selection import train_test_split\n",
        "import math\n",
        "from collections import Counter\n",
        "import numpy as np\n",
        "from collections import defaultdict\n",
        "from matplotlib import pyplot as plt\n",
        "\n",
        "NR_CLASSES = 3\n",
        "NR_FEATURES = 4\n",
        "\n",
        "\n",
        "iris = load_iris()"
      ]
    },
    {
      "cell_type": "code",
      "execution_count": 3,
      "metadata": {
        "id": "fBh2tfQ44u5k"
      },
      "outputs": [],
      "source": [
        "class NaiveBayes:\n",
        "    def __init__(self, full_data):\n",
        "        self.priors = {}\n",
        "        self.likelihoods = {}\n",
        "        self.full_data = full_data\n",
        "\n",
        "    def build_classifier(self, train_features, train_classes:np.array, feature_amount=NR_FEATURES, alpha=1):\n",
        "        normalise = lambda v : v/len(train_classes)\n",
        "        # setting priors\n",
        "        for unique_class in set(train_classes):\n",
        "            self.priors[unique_class] = Counter(train_classes)[unique_class]/len(train_classes)\n",
        "\n",
        "        train_features = self.data_discretization(train_features)\n",
        "        discr = self.data_discretization(self.full_data)\n",
        "        # for every class\n",
        "        for class_value in set(train_classes):\n",
        "            matching = np.array([row for idx,row in enumerate(train_features) if train_classes[idx]==class_value])\n",
        "            normalise =  lambda v : v/Counter(train_classes)[class_value]\n",
        "            x = {}\n",
        "            # for every column\n",
        "            for i,col in enumerate(matching.T):\n",
        "                # count how many times this feature appeared\n",
        "                featureCounts = Counter(col)\n",
        "                x[i] = {k: normalise(v) for k, v in featureCounts.items()}\n",
        "                # used to get all the possible value for this feature\n",
        "                actual_col = discr[:,i]\n",
        "                # add zeros if feature didn't show up\n",
        "                for bin in range(max(actual_col)+1):\n",
        "                    if bin not in x[i].keys():\n",
        "                        x[i][bin]=0\n",
        "\n",
        "            self.likelihoods[class_value]=x \n",
        "        return self\n",
        "\n",
        "    def data_discretization(self, data:np.ndarray, classes=3):\n",
        "        discr_data = np.zeros(data.shape, dtype=int)\n",
        "        for i in range(NR_FEATURES):\n",
        "            col = data[:, i]\n",
        "            full_col = self.full_data[:, i]\n",
        "            chunks = np.array_split(np.sort(full_col), classes)\n",
        "            new_col = np.zeros((len(col)))\n",
        "            # discretization\n",
        "            for j, val in enumerate(col):\n",
        "                new_col[j] = self._find_section(val, chunks)\n",
        "            discr_data[:, i] = new_col\n",
        "        return discr_data\n",
        "\n",
        "    def _find_section(self, val, chunks):\n",
        "        \"\"\"Finds index of chunk val belongs to\"\"\"\n",
        "        for idx, chunk in enumerate(chunks):\n",
        "                    if min(chunk) <= val <= max(chunk):\n",
        "                        return idx\n",
        "\n",
        "    def predict(self, sample):\n",
        "        sample = self.data_discretization(np.reshape(sample, (1,NR_FEATURES)))\n",
        "        sample = sample.reshape((NR_FEATURES))\n",
        "        probability, feature_nr = 0,0\n",
        "        most_probable_class, max_probability = (-1, -1)\n",
        "        for cls in self.priors:\n",
        "            #P(cechy|cls)=PI(cecha_i|cls)\n",
        "            likelihood=self.priors[cls]\n",
        "            for i,value in enumerate(sample):\n",
        "                likelihood*=self.likelihoods[cls][i][value]\n",
        "            if likelihood > max_probability:\n",
        "                most_probable_class, max_probability = cls, likelihood\n",
        "        return most_probable_class\n",
        "\n",
        "\n",
        "class GaussianNaiveBayes:\n",
        "    def __init__(self):\n",
        "        self.priors = {}\n",
        "        self.likelihoods = {}\n",
        "\n",
        "    def build_classifier(self, train_features, train_classes):\n",
        "        for unique_class in set(train_classes):\n",
        "            self.priors[unique_class] = Counter(train_classes)[unique_class]/len(train_classes)\n",
        "        self.nr_classes = max(train_classes) + 1\n",
        "        self.means = np.array([train_features[np.where(train_classes==i)].mean(axis=0) for i in range(self.nr_classes)])\n",
        "        self.stds = np.array([train_features[np.where(train_classes==i)].std(axis=0) for i in range(self.nr_classes)])\n",
        "\n",
        "    @staticmethod\n",
        "    def normal_dist(x, mean, std):\n",
        "        return (1 / np.sqrt(2*np.pi*std**2)*np.exp(-0.5*((x-mean)/std)**2))\n",
        "\n",
        "    def predict(self, sample):\n",
        "        predictions = {}\n",
        "        for cls in self.priors:\n",
        "            likelihood = np.prod(self.normal_dist(sample,self.means[cls],self.stds[cls]))\n",
        "            predictions[cls]=likelihood*self.priors[cls]\n",
        "        return max(predictions, key=predictions.get) \n"
      ]
    },
    {
      "cell_type": "code",
      "execution_count": 13,
      "metadata": {},
      "outputs": [],
      "source": [
        "def run(i, randomise:bool):\n",
        "    size = 0.1 * i\n",
        "    x = iris.data\n",
        "    y = iris.target\n",
        "    x_train, x_test, y_train, y_test = train_test_split(x, y, test_size=size, random_state=123) if not randomise else train_test_split(x, y, test_size=size)\n",
        "    bayes = NaiveBayes(x)\n",
        "    bayes.build_classifier(x_train, y_train)\n",
        "    gauss = GaussianNaiveBayes()\n",
        "    gauss.build_classifier(x_train, y_train)\n",
        "    count, count_g = 0, 0\n",
        "    for x,y in zip(x_test, y_test):\n",
        "        val = bayes.predict(x)\n",
        "        val_g = gauss.predict(x)\n",
        "        if val == y: count+=1\n",
        "        if val_g == y: count_g+=1\n",
        "    return (count/len(y_test), count_g/len(y_test))\n",
        "\n",
        "def plot(sizes:list, acc:list, title:str):\n",
        "    plt.scatter(sizes, acc, marker='.')\n",
        "    plt.xlabel(\"Test size\")\n",
        "    plt.ylabel(\"Accuracy\")\n",
        "    plt.title(title)\n",
        "    plt.show()"
      ]
    },
    {
      "cell_type": "code",
      "execution_count": 5,
      "metadata": {},
      "outputs": [
        {
          "name": "stdout",
          "output_type": "stream",
          "text": [
            "0 0\n"
          ]
        },
        {
          "data": {
            "image/png": "[encoded data removed]",
            "text/plain": [
              "<Figure size 640x480 with 1 Axes>"
            ]
          },
          "metadata": {},
          "output_type": "display_data"
        },
        {
          "data": {
            "image/png": "[encoded data removed]",
            "text/plain": [
              "<Figure size 640x480 with 1 Axes>"
            ]
          },
          "metadata": {},
          "output_type": "display_data"
        }
      ],
      "source": [
        "acc_bayes, acc_gauss = [], []\n",
        "for i in range(1, 10):\n",
        "    acc_b, acc_g = run(i, random=False)\n",
        "    acc_bayes.append(acc_b)\n",
        "    acc_gauss.append(acc_g)\n",
        "print(np.argmax(acc_bayes), np.argmax(acc_gauss))\n",
        "plot([x*0.1 for x in range(1,10)], acc_bayes, \"Bayes\")\n",
        "plot([x*0.1 for x in range(1,10)], acc_gauss, \"Gauss\")"
      ]
    },
    {
      "cell_type": "code",
      "execution_count": 14,
      "metadata": {},
      "outputs": [
        {
          "name": "stdout",
          "output_type": "stream",
          "text": [
            "1. Bayes 0.9299999999999998\n",
            "1. Gauss 0.946\n",
            "2. Bayes 0.9343333333333338\n",
            "2. Gauss 0.9576666666666673\n",
            "3. Bayes 0.9443478260869572\n",
            "3. Gauss 0.9593478260869575\n",
            "4. Bayes 0.931833333333334\n",
            "4. Gauss 0.952500000000001\n",
            "5. Bayes 0.9371999999999998\n",
            "5. Gauss 0.952933333333333\n",
            "6. Bayes 0.9340659340659339\n",
            "6. Gauss 0.952307692307691\n",
            "7. Bayes 0.9240566037735849\n",
            "7. Gauss 0.9472641509433964\n",
            "8. Bayes 0.894166666666667\n",
            "8. Gauss 0.9415000000000003\n"
          ]
        },
        {
          "name": "stderr",
          "output_type": "stream",
          "text": [
            "C:\\Users\\User\\AppData\\Local\\Packages\\PythonSoftwareFoundation.Python.3.7_qbz5n2kfra8p0\\LocalCache\\local-packages\\Python37\\site-packages\\ipykernel_launcher.py:83: RuntimeWarning: divide by zero encountered in true_divide\n",
            "C:\\Users\\User\\AppData\\Local\\Packages\\PythonSoftwareFoundation.Python.3.7_qbz5n2kfra8p0\\LocalCache\\local-packages\\Python37\\site-packages\\ipykernel_launcher.py:83: RuntimeWarning: invalid value encountered in true_divide\n",
            "C:\\Users\\User\\AppData\\Local\\Packages\\PythonSoftwareFoundation.Python.3.7_qbz5n2kfra8p0\\LocalCache\\local-packages\\Python37\\site-packages\\ipykernel_launcher.py:83: RuntimeWarning: invalid value encountered in multiply\n"
          ]
        },
        {
          "name": "stdout",
          "output_type": "stream",
          "text": [
            "9. Bayes 0.7802962962962964\n",
            "9. Gauss 0.7996296296296294\n"
          ]
        }
      ],
      "source": [
        "for i in range(1, 10):\n",
        "    acc_bayes, acc_gauss = [], []\n",
        "    for j in range(100):\n",
        "        acc_b, acc_g = run(i, randomise=True)\n",
        "        acc_bayes.append(acc_b)\n",
        "        acc_gauss.append(acc_g)\n",
        "    print(f'{i}. Bayes {sum(acc_bayes)/len(acc_bayes)}')\n",
        "    print(f'{i}. Gauss {sum(acc_gauss)/len(acc_gauss)}')"
      ]
    },
    {
      "cell_type": "code",
      "execution_count": null,
      "metadata": {},
      "outputs": [
        {
          "name": "stderr",
          "output_type": "stream",
          "text": [
            "C:\\Users\\User\\AppData\\Local\\Packages\\PythonSoftwareFoundation.Python.3.7_qbz5n2kfra8p0\\LocalCache\\local-packages\\Python37\\site-packages\\ipykernel_launcher.py:83: RuntimeWarning: divide by zero encountered in true_divide\n",
            "C:\\Users\\User\\AppData\\Local\\Packages\\PythonSoftwareFoundation.Python.3.7_qbz5n2kfra8p0\\LocalCache\\local-packages\\Python37\\site-packages\\ipykernel_launcher.py:83: RuntimeWarning: invalid value encountered in multiply\n",
            "C:\\Users\\User\\AppData\\Local\\Packages\\PythonSoftwareFoundation.Python.3.7_qbz5n2kfra8p0\\LocalCache\\local-packages\\Python37\\site-packages\\ipykernel_launcher.py:83: RuntimeWarning: invalid value encountered in true_divide\n",
            "C:\\Users\\User\\AppData\\Local\\Packages\\PythonSoftwareFoundation.Python.3.7_qbz5n2kfra8p0\\LocalCache\\local-packages\\Python37\\site-packages\\ipykernel_launcher.py:78: RuntimeWarning: Mean of empty slice.\n",
            "C:\\Users\\User\\AppData\\Local\\Packages\\PythonSoftwareFoundation.Python.3.7_qbz5n2kfra8p0\\LocalCache\\local-packages\\Python37\\site-packages\\numpy\\core\\_methods.py:182: RuntimeWarning: invalid value encountered in true_divide\n",
            "  ret, rcount, out=ret, casting='unsafe', subok=False)\n",
            "C:\\Users\\User\\AppData\\Local\\Packages\\PythonSoftwareFoundation.Python.3.7_qbz5n2kfra8p0\\LocalCache\\local-packages\\Python37\\site-packages\\numpy\\core\\_methods.py:263: RuntimeWarning: Degrees of freedom <= 0 for slice\n",
            "  keepdims=keepdims, where=where)\n",
            "C:\\Users\\User\\AppData\\Local\\Packages\\PythonSoftwareFoundation.Python.3.7_qbz5n2kfra8p0\\LocalCache\\local-packages\\Python37\\site-packages\\numpy\\core\\_methods.py:223: RuntimeWarning: invalid value encountered in true_divide\n",
            "  subok=False)\n",
            "C:\\Users\\User\\AppData\\Local\\Packages\\PythonSoftwareFoundation.Python.3.7_qbz5n2kfra8p0\\LocalCache\\local-packages\\Python37\\site-packages\\numpy\\core\\_methods.py:252: RuntimeWarning: invalid value encountered in true_divide\n",
            "  ret, rcount, out=ret, casting='unsafe', subok=False)\n"
          ]
        },
        {
          "name": "stdout",
          "output_type": "stream",
          "text": [
            "0 0\n"
          ]
        }
      ],
      "source": [
        "b, g = np.zeros(50), np.zeros(50)\n",
        "for _ in range(50):\n",
        "    acc_bayes, acc_gauss = [], []\n",
        "    for i in range(1, 10):\n",
        "        acc_b, acc_g = run(i, randomise==True)\n",
        "        acc_bayes.append(acc_b)\n",
        "        acc_gauss.append(acc_g)\n",
        "    b[np.argmax(acc_bayes)] += 1\n",
        "    g[np.argmax(acc_gauss)] += 1\n",
        "print(np.argmax(b), np.argmax(g))"
      ]
    },
    {
      "cell_type": "markdown",
      "metadata": {},
      "source": [
        "# Wnioski\n",
        "- Nawet przy małych train_size GaussianNaiveBayes daje dobre wyniki, accuracy NaiveBayes przy małych train_size spada.\n",
        "- Średnio Gauss daje lepsze wyniki od Bayes'a\n",
        "- Obydwa modele dają najlepsze wyniki przy największym train_size\n",
        "- Jest nazywany naiwny dlatego że nie rozróżnia kolejność. W tym problemie to nie wplywa, ale naprzykład "
      ]
    }
  ],
  "metadata": {
    "colab": {
      "provenance": []
    },
    "kernelspec": {
      "display_name": "Python 3.7.9 64-bit (microsoft store)",
      "language": "python",
      "name": "python3"
    },
    "language_info": {
      "codemirror_mode": {
        "name": "ipython",
        "version": 3
      },
      "file_extension": ".py",
      "mimetype": "text/x-python",
      "name": "python",
      "nbconvert_exporter": "python",
      "pygments_lexer": "ipython3",
      "version": "3.7.9"
    },
    "nteract": {
      "version": "nteract-front-end@1.0.0"
    },
    "vscode": {
      "interpreter": {
        "hash": "822993cc2de8065dd07929654093e8c6598914b15835bcfeccbcac84530d789c"
      }
    }
  },
  "nbformat": 4,
  "nbformat_minor": 0
}
