{
  "cells": [
    {
      "cell_type": "markdown",
      "metadata": {
        "id": "88lxDms-saqt"
      },
      "source": [
        "#Zadanie 1a (3 pkt)\n",
        "Celem zadania jest rozwiązanie problemu plecakowego dwoma metodami - brute force oraz według zadanej heurystyki. Należy zaimplementować metody klasy *KnapSack* - *solve_knapsack_brute_force* oraz *solve_knapsack_pw_ratio*. Poprzez rozwiązanie problemu rozumiemy podanie które przedmioty (indeksy w tablicy) należy spakować do plecaka oraz jaka jest sumaryczna wartość i masa plecaka. Punktacja wygląda następująco:\n",
        "\n",
        "\n",
        "*   Rozwiązanie problemu metodą brute force. *Podpowiedź: do wygenerowania wszystkich permutacji można użyć funkcji product z biblioteki itertools* - **1.5 pkt**\n",
        "*   Rozwiązanie problemu według heurystyki - do plecaka pakujemy przedmioty według stosunku wartości do wagi - **1 pkt**\n",
        "*   Dla metody brute force proszę wygenerować wykres zależności czasu wykonywania metody od liczby elementów w tablicach *weights* i *profits* (do obu tablic należy stopniowo dopisywać po jednym elemencie, np. 10-krotnie, wartości elementów nie mają znaczenia). Proszę również odpowiedzieć na pytania (w osobnej komórce tekstowej) - czy obie metody mają takie same rozwiązania? Jakie są Pani / Pana wnioski? - **0.5 pkt**\n",
        "\n",
        "\n"
      ]
    },
    {
      "cell_type": "code",
      "execution_count": 46,
      "metadata": {
        "id": "1X0PiYKZ2w63"
      },
      "outputs": [],
      "source": [
        "import numpy as np\n",
        "from itertools import product\n",
        "from matplotlib import pyplot as plt\n",
        "import time"
      ]
    },
    {
      "cell_type": "code",
      "execution_count": 47,
      "metadata": {
        "id": "_IOCNGpCuy8s"
      },
      "outputs": [],
      "source": [
        "weights = np.array([8, 3, 5, 2])\n",
        "capacity = 9\n",
        "profits = np.array([16, 8, 9, 6])"
      ]
    },
    {
      "cell_type": "code",
      "execution_count": 48,
      "metadata": {
        "id": "s5J82x9WuSOh"
      },
      "outputs": [],
      "source": [
        "class KnapSack:\n",
        "  def __init__(self, profits, weights, capacity):\n",
        "    self.profits = profits\n",
        "    self.weights = weights\n",
        "    self.capacity = capacity\n",
        "\n",
        "  def solve_knapsack_brute_force(self):\n",
        "    choices = list(product(range(2), repeat=len(self.profits)))\n",
        "    result = {'indexes':[], 'value': 0, 'weight': 0,}\n",
        "    for choice in choices:\n",
        "      indexes = [i for i in range(len(choice)) if choice[i]]\n",
        "      weight = sum([self.weights[i]*choice[i] for i in range(len(profits))])\n",
        "      value = sum([self.profits[i]*choice[i] for i in range(len(profits))])\n",
        "      if weight < self.capacity and weight > result.get('weight'):\n",
        "        result['indexes'], result['value'], result['weight'] = indexes, value, weight\n",
        "    return result\n",
        "\n",
        "  def solve_knapsack_pw_ratio(self):\n",
        "    weights_with_profits = sorted(list(zip([self.profits[i]/self.weights[i] for i in range(len(self.weights))], range(len(self.weights)))), key=lambda l: l[0], reverse=True)\n",
        "    elements, value, weight, not_full= [], 0, 0, True\n",
        "    for _, idx in weights_with_profits:\n",
        "      if weight + weights[idx] > self.capacity:\n",
        "        not_full = False\n",
        "      if not_full:\n",
        "        elements.append(idx)\n",
        "        value += self.profits[idx]\n",
        "        weight += self.weights[idx]\n",
        "    return [elements, value, weight]\n"
      ]
    },
    {
      "cell_type": "code",
      "execution_count": 49,
      "metadata": {},
      "outputs": [],
      "source": [
        "#knapsack = KnapSack(profits, weights, capacity)\n",
        "#print(knapsack.solve_knapsack_brute_force())\n",
        "#print(knapsack.solve_knapsack_pw_ratio())"
      ]
    },
    {
      "cell_type": "code",
      "execution_count": 61,
      "metadata": {},
      "outputs": [
        {
          "data": {
            "image/png": "[encoded data removed]",
            "text/plain": [
              "<Figure size 640x480 with 1 Axes>"
            ]
          },
          "metadata": {},
          "output_type": "display_data"
        }
      ],
      "source": [
        "def create_plot():\n",
        "    knapsack = KnapSack(list(profits), list(weights), capacity)\n",
        "    results = []\n",
        "    length = 20\n",
        "    for i in range(length):\n",
        "        start = time.time()\n",
        "        knapsack.solve_knapsack_brute_force()\n",
        "        delta = time.time()-start\n",
        "        results.append(delta)\n",
        "        knapsack.profits.append(i)\n",
        "        knapsack.weights.append(1)\n",
        "        knapsack.capacity += 1\n",
        "    plt.plot(range(4, length + 4), results)\n",
        "    plt.show()\n",
        "\n",
        "create_plot()"
      ]
    }
  ],
  "metadata": {
    "colab": {
      "collapsed_sections": [],
      "provenance": []
    },
    "kernelspec": {
      "display_name": "Python 3.7.9 64-bit (microsoft store)",
      "language": "python",
      "name": "python3"
    },
    "language_info": {
      "codemirror_mode": {
        "name": "ipython",
        "version": 3
      },
      "file_extension": ".py",
      "mimetype": "text/x-python",
      "name": "python",
      "nbconvert_exporter": "python",
      "pygments_lexer": "ipython3",
      "version": "3.7.9"
    },
    "vscode": {
      "interpreter": {
        "hash": "822993cc2de8065dd07929654093e8c6598914b15835bcfeccbcac84530d789c"
      }
    }
  },
  "nbformat": 4,
  "nbformat_minor": 0
}
